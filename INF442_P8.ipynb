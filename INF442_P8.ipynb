{
  "nbformat": 4,
  "nbformat_minor": 0,
  "metadata": {
    "colab": {
      "name": "INF442_P8.ipynb",
      "provenance": [],
      "collapsed_sections": [],
      "include_colab_link": true
    },
    "kernelspec": {
      "name": "python3",
      "display_name": "Python 3"
    }
  },
  "cells": [
    {
      "cell_type": "markdown",
      "metadata": {
        "id": "view-in-github",
        "colab_type": "text"
      },
      "source": [
        "<a href=\"https://colab.research.google.com/github/maicken/INF442_P8/blob/master/INF442_P8.ipynb\" target=\"_parent\"><img src=\"https://colab.research.google.com/assets/colab-badge.svg\" alt=\"Open In Colab\"/></a>"
      ]
    },
    {
      "cell_type": "markdown",
      "metadata": {
        "id": "sFS5j4vklGzG",
        "colab_type": "text"
      },
      "source": [
        "# Getting data and saving them at my Google Drive folder"
      ]
    },
    {
      "cell_type": "code",
      "metadata": {
        "id": "nXjHpEYrLy3M",
        "colab_type": "code",
        "outputId": "34d64f11-59e4-4afb-e4e2-0d4e40f3b946",
        "colab": {
          "base_uri": "https://localhost:8080/",
          "height": 289
        }
      },
      "source": [
        "# web scraping\n",
        "\n",
        "!pip install selenium\n",
        "!pip install beautifulsoup4\n",
        "!pip install wget\n",
        "\n",
        "from bs4 import BeautifulSoup\n",
        "from selenium import webdriver\n",
        "import pandas as pd\n",
        "import requests\n",
        "import wget\n",
        "import traceback"
      ],
      "execution_count": 0,
      "outputs": [
        {
          "output_type": "stream",
          "text": [
            "Collecting selenium\n",
            "\u001b[?25l  Downloading https://files.pythonhosted.org/packages/80/d6/4294f0b4bce4de0abf13e17190289f9d0613b0a44e5dd6a7f5ca98459853/selenium-3.141.0-py2.py3-none-any.whl (904kB)\n",
            "\r\u001b[K     |▍                               | 10kB 18.1MB/s eta 0:00:01\r\u001b[K     |▊                               | 20kB 3.1MB/s eta 0:00:01\r\u001b[K     |█                               | 30kB 4.5MB/s eta 0:00:01\r\u001b[K     |█▌                              | 40kB 2.9MB/s eta 0:00:01\r\u001b[K     |█▉                              | 51kB 3.6MB/s eta 0:00:01\r\u001b[K     |██▏                             | 61kB 4.3MB/s eta 0:00:01\r\u001b[K     |██▌                             | 71kB 4.9MB/s eta 0:00:01\r\u001b[K     |███                             | 81kB 3.8MB/s eta 0:00:01\r\u001b[K     |███▎                            | 92kB 4.3MB/s eta 0:00:01\r\u001b[K     |███▋                            | 102kB 4.7MB/s eta 0:00:01\r\u001b[K     |████                            | 112kB 4.7MB/s eta 0:00:01\r\u001b[K     |████▍                           | 122kB 4.7MB/s eta 0:00:01\r\u001b[K     |████▊                           | 133kB 4.7MB/s eta 0:00:01\r\u001b[K     |█████                           | 143kB 4.7MB/s eta 0:00:01\r\u001b[K     |█████▍                          | 153kB 4.7MB/s eta 0:00:01\r\u001b[K     |█████▉                          | 163kB 4.7MB/s eta 0:00:01\r\u001b[K     |██████▏                         | 174kB 4.7MB/s eta 0:00:01\r\u001b[K     |██████▌                         | 184kB 4.7MB/s eta 0:00:01\r\u001b[K     |██████▉                         | 194kB 4.7MB/s eta 0:00:01\r\u001b[K     |███████▎                        | 204kB 4.7MB/s eta 0:00:01\r\u001b[K     |███████▋                        | 215kB 4.7MB/s eta 0:00:01\r\u001b[K     |████████                        | 225kB 4.7MB/s eta 0:00:01\r\u001b[K     |████████▎                       | 235kB 4.7MB/s eta 0:00:01\r\u001b[K     |████████▊                       | 245kB 4.7MB/s eta 0:00:01\r\u001b[K     |█████████                       | 256kB 4.7MB/s eta 0:00:01\r\u001b[K     |█████████▍                      | 266kB 4.7MB/s eta 0:00:01\r\u001b[K     |█████████▉                      | 276kB 4.7MB/s eta 0:00:01\r\u001b[K     |██████████▏                     | 286kB 4.7MB/s eta 0:00:01\r\u001b[K     |██████████▌                     | 296kB 4.7MB/s eta 0:00:01\r\u001b[K     |██████████▉                     | 307kB 4.7MB/s eta 0:00:01\r\u001b[K     |███████████▎                    | 317kB 4.7MB/s eta 0:00:01\r\u001b[K     |███████████▋                    | 327kB 4.7MB/s eta 0:00:01\r\u001b[K     |████████████                    | 337kB 4.7MB/s eta 0:00:01\r\u001b[K     |████████████▎                   | 348kB 4.7MB/s eta 0:00:01\r\u001b[K     |████████████▊                   | 358kB 4.7MB/s eta 0:00:01\r\u001b[K     |█████████████                   | 368kB 4.7MB/s eta 0:00:01\r\u001b[K     |█████████████▍                  | 378kB 4.7MB/s eta 0:00:01\r\u001b[K     |█████████████▊                  | 389kB 4.7MB/s eta 0:00:01\r\u001b[K     |██████████████▏                 | 399kB 4.7MB/s eta 0:00:01\r\u001b[K     |██████████████▌                 | 409kB 4.7MB/s eta 0:00:01\r\u001b[K     |██████████████▉                 | 419kB 4.7MB/s eta 0:00:01\r\u001b[K     |███████████████▏                | 430kB 4.7MB/s eta 0:00:01\r\u001b[K     |███████████████▋                | 440kB 4.7MB/s eta 0:00:01\r\u001b[K     |████████████████                | 450kB 4.7MB/s eta 0:00:01\r\u001b[K     |████████████████▎               | 460kB 4.7MB/s eta 0:00:01\r\u001b[K     |████████████████▋               | 471kB 4.7MB/s eta 0:00:01\r\u001b[K     |█████████████████               | 481kB 4.7MB/s eta 0:00:01\r\u001b[K     |█████████████████▍              | 491kB 4.7MB/s eta 0:00:01\r\u001b[K     |█████████████████▊              | 501kB 4.7MB/s eta 0:00:01\r\u001b[K     |██████████████████▏             | 512kB 4.7MB/s eta 0:00:01\r\u001b[K     |██████████████████▌             | 522kB 4.7MB/s eta 0:00:01\r\u001b[K     |██████████████████▉             | 532kB 4.7MB/s eta 0:00:01\r\u001b[K     |███████████████████▏            | 542kB 4.7MB/s eta 0:00:01\r\u001b[K     |███████████████████▋            | 552kB 4.7MB/s eta 0:00:01\r\u001b[K     |████████████████████            | 563kB 4.7MB/s eta 0:00:01\r\u001b[K     |████████████████████▎           | 573kB 4.7MB/s eta 0:00:01\r\u001b[K     |████████████████████▋           | 583kB 4.7MB/s eta 0:00:01\r\u001b[K     |█████████████████████           | 593kB 4.7MB/s eta 0:00:01\r\u001b[K     |█████████████████████▍          | 604kB 4.7MB/s eta 0:00:01\r\u001b[K     |█████████████████████▊          | 614kB 4.7MB/s eta 0:00:01\r\u001b[K     |██████████████████████          | 624kB 4.7MB/s eta 0:00:01\r\u001b[K     |██████████████████████▌         | 634kB 4.7MB/s eta 0:00:01\r\u001b[K     |██████████████████████▉         | 645kB 4.7MB/s eta 0:00:01\r\u001b[K     |███████████████████████▏        | 655kB 4.7MB/s eta 0:00:01\r\u001b[K     |███████████████████████▌        | 665kB 4.7MB/s eta 0:00:01\r\u001b[K     |████████████████████████        | 675kB 4.7MB/s eta 0:00:01\r\u001b[K     |████████████████████████▎       | 686kB 4.7MB/s eta 0:00:01\r\u001b[K     |████████████████████████▋       | 696kB 4.7MB/s eta 0:00:01\r\u001b[K     |█████████████████████████       | 706kB 4.7MB/s eta 0:00:01\r\u001b[K     |█████████████████████████▍      | 716kB 4.7MB/s eta 0:00:01\r\u001b[K     |█████████████████████████▊      | 727kB 4.7MB/s eta 0:00:01\r\u001b[K     |██████████████████████████      | 737kB 4.7MB/s eta 0:00:01\r\u001b[K     |██████████████████████████▍     | 747kB 4.7MB/s eta 0:00:01\r\u001b[K     |██████████████████████████▉     | 757kB 4.7MB/s eta 0:00:01\r\u001b[K     |███████████████████████████▏    | 768kB 4.7MB/s eta 0:00:01\r\u001b[K     |███████████████████████████▌    | 778kB 4.7MB/s eta 0:00:01\r\u001b[K     |████████████████████████████    | 788kB 4.7MB/s eta 0:00:01\r\u001b[K     |████████████████████████████▎   | 798kB 4.7MB/s eta 0:00:01\r\u001b[K     |████████████████████████████▋   | 808kB 4.7MB/s eta 0:00:01\r\u001b[K     |█████████████████████████████   | 819kB 4.7MB/s eta 0:00:01\r\u001b[K     |█████████████████████████████▍  | 829kB 4.7MB/s eta 0:00:01\r\u001b[K     |█████████████████████████████▊  | 839kB 4.7MB/s eta 0:00:01\r\u001b[K     |██████████████████████████████  | 849kB 4.7MB/s eta 0:00:01\r\u001b[K     |██████████████████████████████▍ | 860kB 4.7MB/s eta 0:00:01\r\u001b[K     |██████████████████████████████▉ | 870kB 4.7MB/s eta 0:00:01\r\u001b[K     |███████████████████████████████▏| 880kB 4.7MB/s eta 0:00:01\r\u001b[K     |███████████████████████████████▌| 890kB 4.7MB/s eta 0:00:01\r\u001b[K     |███████████████████████████████▉| 901kB 4.7MB/s eta 0:00:01\r\u001b[K     |████████████████████████████████| 911kB 4.7MB/s \n",
            "\u001b[?25hRequirement already satisfied: urllib3 in /usr/local/lib/python3.6/dist-packages (from selenium) (1.24.3)\n",
            "Installing collected packages: selenium\n",
            "Successfully installed selenium-3.141.0\n",
            "Requirement already satisfied: beautifulsoup4 in /usr/local/lib/python3.6/dist-packages (4.6.3)\n",
            "Collecting wget\n",
            "  Downloading https://files.pythonhosted.org/packages/47/6a/62e288da7bcda82b935ff0c6cfe542970f04e29c756b0e147251b2fb251f/wget-3.2.zip\n",
            "Building wheels for collected packages: wget\n",
            "  Building wheel for wget (setup.py) ... \u001b[?25l\u001b[?25hdone\n",
            "  Created wheel for wget: filename=wget-3.2-cp36-none-any.whl size=9682 sha256=7581583939fe820ee66da15ff1acd43aa5f06e903f71b3b90eacefa93ab6affa\n",
            "  Stored in directory: /root/.cache/pip/wheels/40/15/30/7d8f7cea2902b4db79e3fea550d7d7b85ecb27ef992b618f3f\n",
            "Successfully built wget\n",
            "Installing collected packages: wget\n",
            "Successfully installed wget-3.2\n"
          ],
          "name": "stdout"
        }
      ]
    },
    {
      "cell_type": "code",
      "metadata": {
        "id": "BI10qQL1Ne_p",
        "colab_type": "code",
        "outputId": "b5a48c95-00c7-4fe7-82bf-4aed26276edf",
        "colab": {
          "base_uri": "https://localhost:8080/",
          "height": 51
        }
      },
      "source": [
        "url = 'https://www.data.gouv.fr/fr/datasets/base-de-donnees-accidents-corporels-de-la-circulation/#_'\n",
        "\n",
        "year = 2010 # First year\n",
        "\n",
        "response = requests.get(url, timeout=10)\n",
        "if response.status_code == 200:\n",
        "  print('Permission to access granted')\n",
        "  print()\n",
        "soup = BeautifulSoup(response.content, 'html.parser')\n",
        "# get list of names\n",
        "list_names = []\n",
        "# Selecting all article type\n",
        "for file in soup.findAll('article', attrs={'class':'card resource-card '}):\n",
        "  # Get the name of the file\n",
        "  name = file.findAll('h4', attrs={'class':'ellipsis'})[0].get_text()\n",
        "  # Check if its a file\n",
        "  if name.endswith('.csv') and int(name[-8:-4]) >= year:\n",
        "    # Get the file\n",
        "    list_names.append(name)\n",
        "    filename = file.findAll('a', attrs={'class':'btn btn-sm btn-primary'})[1]['href']\n",
        "    filedata = wget.download(filename, 'sample_data/' + name)"
      ],
      "execution_count": 0,
      "outputs": [
        {
          "output_type": "stream",
          "text": [
            "Permission to access granted\n",
            "\n"
          ],
          "name": "stdout"
        }
      ]
    },
    {
      "cell_type": "code",
      "metadata": {
        "id": "zm8W8hfsOjZs",
        "colab_type": "code",
        "outputId": "51ead25b-801b-4f62-90ff-192c2e7b30a0",
        "colab": {
          "base_uri": "https://localhost:8080/",
          "height": 1000
        }
      },
      "source": [
        "v = []\n",
        "u = []\n",
        "l = []\n",
        "c = []\n",
        "\n",
        "def sort_names(name):\n",
        "  return(name[:-10]+name[-8:])\n",
        "list_names_s = sorted(list_names, key=sort_names)\n",
        "n = len(list_names_s) / 4\n",
        "for i, name in enumerate(list_names_s, 0):\n",
        "  if 0 <= i < n:\n",
        "    c.append(name)\n",
        "  elif n <= i < 2*n:\n",
        "    l.append(name)\n",
        "  elif 2*n <= i < 3*n:\n",
        "    u.append(name)\n",
        "  else:\n",
        "    v.append(name)\n",
        "\n",
        "df_c = pd.DataFrame()\n",
        "df_l = pd.DataFrame()\n",
        "df_u = pd.DataFrame()\n",
        "df_v = pd.DataFrame()\n",
        "\n",
        "print(\"--------------------\")\n",
        "print(\"caracteristiques.csv\")\n",
        "print(\"--------------------\")\n",
        "er = []\n",
        "for file in c:\n",
        "    try:\n",
        "      data = pd.read_csv('sample_data/' + file, index_col='Num_Acc', engine='python')\n",
        "      df_c = pd.concat([data, df_c], axis=0, sort=False)\n",
        "    except Exception as e:\n",
        "      traceback.print_exc()\n",
        "      er.append(file[-8:-4])\n",
        "    print()\n",
        "    print(\"size = %d\" %len(df_c))\n",
        "    print(\"num_columns = %d\" %len(df_c.columns))\n",
        "print()\n",
        "print('Error in years :')\n",
        "print(er)\n",
        "print()\n",
        "print(\"--------------------\")\n",
        "print(\"lieux.csv\")\n",
        "print(\"--------------------\")\n",
        "er = []\n",
        "for file in l:\n",
        "    try:\n",
        "      data = pd.read_csv('sample_data/' + file, index_col='Num_Acc', engine='python')\n",
        "      df_l = pd.concat([data, df_l], axis=0, sort=False)\n",
        "    except Exception as e:\n",
        "      traceback.print_exc()\n",
        "      er.append(file[-8:-4])\n",
        "    print()\n",
        "    print(\"size = %d\" %len(df_l))\n",
        "    print(\"num_columns = %d\" %len(df_l.columns))\n",
        "print()\n",
        "print('Error in years :')\n",
        "print(er)\n",
        "print()\n",
        "print(\"--------------------\")\n",
        "print(\"usagers.csv\")\n",
        "print(\"--------------------\")\n",
        "er = []\n",
        "for file in u:\n",
        "    try:\n",
        "      data = pd.read_csv('sample_data/' + file, index_col='Num_Acc', engine='python')\n",
        "      df_u = pd.concat([data, df_u], axis=0, sort=False)\n",
        "    except Exception as e:\n",
        "      traceback.print_exc()\n",
        "      er.append(file[-8:-4])\n",
        "    print()\n",
        "    print(\"size = %d\" %len(df_u))\n",
        "    print(\"num_columns = %d\" %len(df_u.columns))\n",
        "print()\n",
        "print('Error in years :')\n",
        "print(er)\n",
        "print()\n",
        "print(\"--------------------\")\n",
        "print(\"vehicules.csv\")\n",
        "print(\"--------------------\")\n",
        "er = []\n",
        "for file in c:\n",
        "    try:\n",
        "      data = pd.read_csv('sample_data/' + file, index_col='Num_Acc', engine='python')\n",
        "      df_v = pd.concat([data, df_v], axis=0, sort=False)\n",
        "    except Exception as e:\n",
        "      traceback.print_exc()\n",
        "      er.append(file[-8:-4])\n",
        "    print()\n",
        "    print(\"size = %d\" %len(df_v))\n",
        "    print(\"num_columns = %d\" %len(df_v.columns))\n",
        "print()\n",
        "print('Error in years :')\n",
        "print(er)\n",
        "print()\n",
        "df_c.to_csv('sample_data/caracteristiques.csv')\n",
        "df_l.to_csv('sample_data/lieux.csv')\n",
        "df_u.to_csv('sample_data/usagers.csv')\n",
        "df_v.to_csv('sample_data/vehicules.csv')"
      ],
      "execution_count": 0,
      "outputs": [
        {
          "output_type": "stream",
          "text": [
            "--------------------\n",
            "caracteristiques.csv\n",
            "--------------------\n",
            "\n",
            "size = 69379\n",
            "num_columns = 15\n",
            "\n",
            "size = 136353\n",
            "num_columns = 15\n",
            "\n",
            "size = 198603\n",
            "num_columns = 15\n",
            "\n",
            "size = 257000\n",
            "num_columns = 15\n",
            "\n",
            "size = 316854\n",
            "num_columns = 15\n",
            "\n",
            "size = 375508\n",
            "num_columns = 15\n",
            "\n",
            "size = 434940\n",
            "num_columns = 15\n",
            "\n",
            "size = 495641\n",
            "num_columns = 15\n",
            "\n",
            "size = 553424\n",
            "num_columns = 15\n",
            "\n",
            "Error in years :\n",
            "[]\n",
            "\n",
            "--------------------\n",
            "lieux.csv\n",
            "--------------------\n",
            "\n",
            "size = 69379\n",
            "num_columns = 17\n",
            "\n",
            "size = 136353\n",
            "num_columns = 17\n",
            "\n",
            "size = 198603\n",
            "num_columns = 17\n",
            "\n",
            "size = 257000\n",
            "num_columns = 17\n",
            "\n",
            "size = 316854\n",
            "num_columns = 17\n",
            "\n",
            "size = 375508\n",
            "num_columns = 17\n",
            "\n",
            "size = 434940\n",
            "num_columns = 17\n",
            "\n",
            "size = 495641\n",
            "num_columns = 17\n",
            "\n",
            "size = 553424\n",
            "num_columns = 17\n",
            "\n",
            "Error in years :\n",
            "[]\n",
            "\n",
            "--------------------\n",
            "usagers.csv\n",
            "--------------------\n",
            "\n",
            "size = 154192\n",
            "num_columns = 11\n",
            "\n",
            "size = 302735\n",
            "num_columns = 11\n",
            "\n",
            "size = 441363\n",
            "num_columns = 11\n",
            "\n",
            "size = 570057\n",
            "num_columns = 11\n",
            "\n",
            "size = 702243\n",
            "num_columns = 11\n",
            "\n",
            "size = 832621\n",
            "num_columns = 11\n",
            "\n",
            "size = 966043\n",
            "num_columns = 11\n",
            "\n",
            "size = 1102064\n",
            "num_columns = 11\n",
            "\n",
            "size = 1232233\n",
            "num_columns = 11\n",
            "\n",
            "Error in years :\n",
            "[]\n",
            "\n",
            "--------------------\n",
            "vehicules.csv\n",
            "--------------------\n",
            "\n",
            "size = 69379\n",
            "num_columns = 15\n",
            "\n",
            "size = 136353\n",
            "num_columns = 15\n",
            "\n",
            "size = 198603\n",
            "num_columns = 15\n",
            "\n",
            "size = 257000\n",
            "num_columns = 15\n",
            "\n",
            "size = 316854\n",
            "num_columns = 15\n",
            "\n",
            "size = 375508\n",
            "num_columns = 15\n",
            "\n",
            "size = 434940\n",
            "num_columns = 15\n",
            "\n",
            "size = 495641\n",
            "num_columns = 15\n",
            "\n",
            "size = 553424\n",
            "num_columns = 15\n",
            "\n",
            "Error in years :\n",
            "[]\n",
            "\n"
          ],
          "name": "stdout"
        }
      ]
    },
    {
      "cell_type": "code",
      "metadata": {
        "id": "TKMQRki5W-2g",
        "colab_type": "code",
        "colab": {}
      },
      "source": [
        "# Pass data to my google drive\n",
        "%mv \"sample_data/lieux.csv\" \"drive/My Drive/Colab Notebooks/INF442_P8/lieux.csv\"\n",
        "%mv \"sample_data/caracteristiques.csv\" \"drive/My Drive/Colab Notebooks/INF442_P8/caracteristiques.csv\"\n",
        "%mv \"sample_data/usagers.csv\" \"drive/My Drive/Colab Notebooks/INF442_P8/usagers.csv\"\n",
        "%mv \"sample_data/vehicules.csv\" \"drive/My Drive/Colab Notebooks/INF442_P8/vehicules.csv\"\n",
        "\n",
        "%cd \"drive/My Drive/Colab Notebooks/INF442_P8/\""
      ],
      "execution_count": 0,
      "outputs": []
    },
    {
      "cell_type": "markdown",
      "metadata": {
        "id": "OUmIVjY4lijf",
        "colab_type": "text"
      },
      "source": [
        "# Data analysis\n",
        "\n",
        "Now that we have all the data, we will be analysing it"
      ]
    },
    {
      "cell_type": "code",
      "metadata": {
        "id": "CcrGWaD_lyl2",
        "colab_type": "code",
        "colab": {}
      },
      "source": [
        "import numpy as np\n",
        "import pandas as pd\n",
        "import matplotlib.pyplot as plt"
      ],
      "execution_count": 0,
      "outputs": []
    },
    {
      "cell_type": "code",
      "metadata": {
        "id": "T2tSIb-jlAj8",
        "colab_type": "code",
        "outputId": "33a8d74a-58fb-4ed0-e714-b49222b5ea9b",
        "colab": {
          "base_uri": "https://localhost:8080/",
          "height": 71
        }
      },
      "source": [
        "df_c = pd.read_csv('caracteristiques.csv')\n",
        "df_l = pd.read_csv('lieux.csv')\n",
        "df_u = pd.read_csv('usagers.csv')\n",
        "df_v = pd.read_csv('vehicules.csv')"
      ],
      "execution_count": 0,
      "outputs": [
        {
          "output_type": "stream",
          "text": [
            "/usr/local/lib/python3.6/dist-packages/IPython/core/interactiveshell.py:2718: DtypeWarning: Columns (2) have mixed types.Specify dtype option on import or set low_memory=False.\n",
            "  interactivity=interactivity, compiler=compiler, result=result)\n"
          ],
          "name": "stderr"
        }
      ]
    },
    {
      "cell_type": "code",
      "metadata": {
        "id": "W6joDz-jmBxk",
        "colab_type": "code",
        "outputId": "c110accc-cfb4-49a2-b229-a590cc70b7b4",
        "colab": {
          "base_uri": "https://localhost:8080/",
          "height": 901
        }
      },
      "source": [
        "print(\"Caracteristiques\")\n",
        "print(df_c.head())\n",
        "print(df_c.columns)\n",
        "print()\n",
        "print(\"Lieux\")\n",
        "print(df_l.head())\n",
        "print(df_l.columns)\n",
        "print()\n",
        "print(\"Usagers\")\n",
        "print(df_u.head())\n",
        "print(df_u.columns)\n",
        "print()\n",
        "print(\"Vehicules\")\n",
        "print(df_v.head())\n",
        "print(df_v.columns)"
      ],
      "execution_count": 0,
      "outputs": [
        {
          "output_type": "stream",
          "text": [
            "Caracteristiques\n",
            "        Num_Acc  an  mois  jour  ...  gps        lat      long  dep\n",
            "0  201800000001  18     1    24  ...    M  5055737.0  294992.0  590\n",
            "1  201800000002  18     2    12  ...    M  5052936.0  293151.0  590\n",
            "2  201800000003  18     3     4  ...    M  5051243.0  291714.0  590\n",
            "3  201800000004  18     5     5  ...    M  5051974.0  289123.0  590\n",
            "4  201800000005  18     6    26  ...    M  5051607.0  290605.0  590\n",
            "\n",
            "[5 rows x 16 columns]\n",
            "Index(['Num_Acc', 'an', 'mois', 'jour', 'hrmn', 'lum', 'agg', 'int', 'atm',\n",
            "       'col', 'com', 'adr', 'gps', 'lat', 'long', 'dep'],\n",
            "      dtype='object')\n",
            "\n",
            "Lieux\n",
            "        Num_Acc  catr voie  v1   v2  ...  larrout  surf  infra  situ  env1\n",
            "0  201800000001     3   41 NaN    C  ...      NaN   1.0    0.0   1.0   0.0\n",
            "1  201800000002     4   41 NaN    D  ...      NaN   1.0    0.0   1.0   0.0\n",
            "2  201800000003     3   39 NaN    D  ...      NaN   1.0    0.0   1.0   0.0\n",
            "3  201800000004     3   39 NaN  NaN  ...      NaN   1.0    0.0   1.0   0.0\n",
            "4  201800000005     4  NaN NaN  NaN  ...      NaN   1.0    0.0   1.0   0.0\n",
            "\n",
            "[5 rows x 18 columns]\n",
            "Index(['Num_Acc', 'catr', 'voie', 'v1', 'v2', 'circ', 'nbv', 'pr', 'pr1',\n",
            "       'vosp', 'prof', 'plan', 'lartpc', 'larrout', 'surf', 'infra', 'situ',\n",
            "       'env1'],\n",
            "      dtype='object')\n",
            "\n",
            "Usagers\n",
            "        Num_Acc  place  catu  grav  sexe  ...  locp  actp  etatp  an_nais  num_veh\n",
            "0  201800000001    1.0     1     3     1  ...   0.0   0.0    0.0   1928.0      B01\n",
            "1  201800000001    1.0     1     1     1  ...   0.0   0.0    0.0   1960.0      A01\n",
            "2  201800000002    1.0     1     1     1  ...   0.0   0.0    0.0   1947.0      A01\n",
            "3  201800000002    NaN     3     4     1  ...   2.0   3.0    1.0   1959.0      A01\n",
            "4  201800000003    1.0     1     3     1  ...   0.0   0.0    0.0   1987.0      A01\n",
            "\n",
            "[5 rows x 12 columns]\n",
            "Index(['Num_Acc', 'place', 'catu', 'grav', 'sexe', 'trajet', 'secu', 'locp',\n",
            "       'actp', 'etatp', 'an_nais', 'num_veh'],\n",
            "      dtype='object')\n",
            "\n",
            "Vehicules\n",
            "        Num_Acc  an  mois  jour  ...  gps        lat      long  dep\n",
            "0  201800000001  18     1    24  ...    M  5055737.0  294992.0  590\n",
            "1  201800000002  18     2    12  ...    M  5052936.0  293151.0  590\n",
            "2  201800000003  18     3     4  ...    M  5051243.0  291714.0  590\n",
            "3  201800000004  18     5     5  ...    M  5051974.0  289123.0  590\n",
            "4  201800000005  18     6    26  ...    M  5051607.0  290605.0  590\n",
            "\n",
            "[5 rows x 16 columns]\n",
            "Index(['Num_Acc', 'an', 'mois', 'jour', 'hrmn', 'lum', 'agg', 'int', 'atm',\n",
            "       'col', 'com', 'adr', 'gps', 'lat', 'long', 'dep'],\n",
            "      dtype='object')\n"
          ],
          "name": "stdout"
        }
      ]
    },
    {
      "cell_type": "code",
      "metadata": {
        "id": "cohdI5WFmHB5",
        "colab_type": "code",
        "colab": {}
      },
      "source": [
        "# Testing colaboration with github"
      ],
      "execution_count": 0,
      "outputs": []
    }
  ]
}